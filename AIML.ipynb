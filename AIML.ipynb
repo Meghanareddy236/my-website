{
  "nbformat": 4,
  "nbformat_minor": 0,
  "metadata": {
    "colab": {
      "provenance": [],
      "authorship_tag": "ABX9TyM51PtTpYOAp5HxwAxxwvxy",
      "include_colab_link": true
    },
    "kernelspec": {
      "name": "python3",
      "display_name": "Python 3"
    },
    "language_info": {
      "name": "python"
    }
  },
  "cells": [
    {
      "cell_type": "markdown",
      "metadata": {
        "id": "view-in-github",
        "colab_type": "text"
      },
      "source": [
        "<a href=\"https://colab.research.google.com/github/Meghanareddy236/my-website/blob/main/AIML.ipynb\" target=\"_parent\"><img src=\"https://colab.research.google.com/assets/colab-badge.svg\" alt=\"Open In Colab\"/></a>"
      ]
    },
    {
      "cell_type": "code",
      "execution_count": null,
      "metadata": {
        "colab": {
          "base_uri": "https://localhost:8080/"
        },
        "id": "pLNrV9-ZnGI3",
        "outputId": "ebf2c7cf-bac7-4412-c625-fc72389d8fb6"
      },
      "outputs": [
        {
          "output_type": "stream",
          "name": "stdout",
          "text": [
            "BFS Nodes are\n",
            "5\n",
            "2\n",
            "3\n",
            "4\n",
            "8\n",
            "6\n",
            "7\n"
          ]
        }
      ],
      "source": [
        "'''week1a'''\n",
        "graph={\n",
        "    '5':['2','3'],\n",
        "    '2':['4','8'],\n",
        "    '3':['6'],\n",
        "    '4':[],\n",
        "    '8':['7'],\n",
        "    '6':[],\n",
        "    '7':[]\n",
        "\n",
        "}\n",
        "vis=[]\n",
        "que=[]\n",
        "def bfs(vis,graph,node):\n",
        "  vis.append(node)\n",
        "  que.append(node)\n",
        "  while que:\n",
        "    m=que.pop(0)\n",
        "    print(m,end='\\n')\n",
        "    for neighbour in graph[m]:\n",
        "      if neighbour not in vis:\n",
        "        vis.append(neighbour)\n",
        "        que.append(neighbour)\n",
        "print(\"BFS Nodes are\")\n",
        "bfs(vis,graph,'5')"
      ]
    },
    {
      "cell_type": "code",
      "source": [
        "'''week1b'''\n",
        "graph={\n",
        "    '5':['2','3'],\n",
        "    '2':['4','8'],\n",
        "    '3':['6'],\n",
        "    '4':[],\n",
        "    '8':['7'],\n",
        "    '6':[],\n",
        "    '7':[]\n",
        "}\n",
        "vis=[]\n",
        "stack=[]\n",
        "def dfs(vis,graph,node):\n",
        "  if node not in vis:\n",
        "    vis.append(node)\n",
        "    stack.append(node)\n",
        "    n=stack.pop(0)\n",
        "    print(n,end='\\n')\n",
        "    for neighbour in graph[n]:\n",
        "      dfs(vis,graph,neighbour)\n",
        "print(\"DFS Nodes are:\")\n",
        "dfs(vis,graph,'5')"
      ],
      "metadata": {
        "colab": {
          "base_uri": "https://localhost:8080/"
        },
        "id": "8R60-VtboD9_",
        "outputId": "cd83d671-4c9f-4a39-a5c9-df883a810d24"
      },
      "execution_count": null,
      "outputs": [
        {
          "output_type": "stream",
          "name": "stdout",
          "text": [
            "DFS Nodes are:\n",
            "5\n",
            "2\n",
            "4\n",
            "8\n",
            "7\n",
            "3\n",
            "6\n"
          ]
        }
      ]
    },
    {
      "cell_type": "code",
      "source": [
        "'''week2'''\n",
        "def astaralgo(start_node,stop_node):\n",
        "\n",
        "    open_set = set(start_node)\n",
        "    closed_set= set()\n",
        "\n",
        "    g={}\n",
        "    parents = {}\n",
        "\n",
        "    g[start_node] = 0\n",
        "\n",
        "    parents[start_node]  = start_node\n",
        "\n",
        "    while len(open_set) > 0:\n",
        "        n=None\n",
        "\n",
        "        for v in open_set:\n",
        "            if n==None or g[v] + heuristic(v) < g[n] + heuristic(n):\n",
        "                n=v\n",
        "        if n==stop_node or Graph_nodes[n]==None:\n",
        "                pass\n",
        "\n",
        "        else:\n",
        "\n",
        "            for(m,weight) in get_neighbors(n):\n",
        "                if m not in open_set  and m not in closed_set:\n",
        "                        open_set.add(m)\n",
        "                        parents[m]=n\n",
        "                        g[m] = g[n] + weight\n",
        "                else:\n",
        "                        if g[m] > g[n] +  weight:\n",
        "                            g[m] = g[n] + weight\n",
        "                            parents[m]=n\n",
        "\n",
        "                            if m in closed_set:\n",
        "                                closed_set.remove(m)\n",
        "                                open_set.add(m)\n",
        "        if n==None:\n",
        "            print(\"path does not exist!\")\n",
        "            return None\n",
        "\n",
        "        if n==stop_node:\n",
        "            path=[]\n",
        "\n",
        "            while parents[n]!=n:\n",
        "                path.append(n)\n",
        "                n=parents[n]\n",
        "\n",
        "            path.append(start_node)\n",
        "\n",
        "            path.reverse()\n",
        "\n",
        "            print(\"Path found: {}\".format(path))\n",
        "            return path\n",
        "\n",
        "\n",
        "        open_set.remove(n)\n",
        "        closed_set.add(n)\n",
        "    print(\"Path does not exist!\")\n",
        "    return None\n",
        "\n",
        "\n",
        "def get_neighbors(v):\n",
        "    if v in Graph_nodes:\n",
        "        return Graph_nodes[v]\n",
        "\n",
        "    else:\n",
        "        return None\n",
        "\n",
        "def heuristic(n):\n",
        "    H_dist = {\n",
        "        'A' : 11,\n",
        "        'B' : 6,\n",
        "        'C' : 99,\n",
        "        'D' : 1,\n",
        "        'E' : 7,\n",
        "        'G' : 0,\n",
        "    }\n",
        "    return H_dist[n]\n",
        "\n",
        "\n",
        "Graph_nodes = {\n",
        "    'A' : [('B',2),('E',3)],\n",
        "    'B' : [('C',1),('G',9)],\n",
        "    'C' : None,\n",
        "    'E' : [('D',6)],\n",
        "    'D' : [('G',1)],\n",
        "}\n",
        "astaralgo('A','G')"
      ],
      "metadata": {
        "colab": {
          "base_uri": "https://localhost:8080/"
        },
        "id": "XZMKAifAEipI",
        "outputId": "609b934e-7149-4f9a-d88e-846d67e14951"
      },
      "execution_count": null,
      "outputs": [
        {
          "output_type": "stream",
          "name": "stdout",
          "text": [
            "Path found: ['A', 'E', 'D', 'G']\n"
          ]
        },
        {
          "output_type": "execute_result",
          "data": {
            "text/plain": [
              "['A', 'E', 'D', 'G']"
            ]
          },
          "metadata": {},
          "execution_count": 1
        }
      ]
    },
    {
      "cell_type": "code",
      "source": [
        "'''week3a'''\n",
        "from sys import maxsize\n",
        "from itertools import permutations\n",
        "\n",
        "# Number of vertices in the graph\n",
        "V = 4\n",
        "\n",
        "def travellingSalesmanProblem(graph, s):\n",
        "    # Store all vertices except the source vertex\n",
        "    vertex = []\n",
        "    for i in range(V):\n",
        "        if i != s:\n",
        "            vertex.append(i)\n",
        "\n",
        "    # Initialize minimum path weight to a very large value\n",
        "    min_path = maxsize\n",
        "\n",
        "    # Generate all permutations of the vertices\n",
        "    next_permutation = permutations(vertex)\n",
        "    for i in next_permutation:\n",
        "        # Store the current path weight\n",
        "        current_pathweight = 0\n",
        "\n",
        "        # Compute the weight of the current permutation\n",
        "        k = s\n",
        "        for j in i:\n",
        "            current_pathweight += graph[k][j]\n",
        "            k = j\n",
        "        current_pathweight += graph[k][s]\n",
        "\n",
        "        # Update minimum path weight\n",
        "        min_path = min(min_path, current_pathweight)\n",
        "\n",
        "    return min_path\n",
        "\n",
        "if __name__ == \"__main__\":\n",
        "    # Adjacency matrix for the graph\n",
        "    graph = [\n",
        "        [0, 10, 15, 20],\n",
        "        [10, 0, 35, 25],\n",
        "        [15, 35, 0, 30],\n",
        "        [20, 25, 30, 0]\n",
        "    ]\n",
        "    # Starting vertex\n",
        "    s = 0\n",
        "    print(travellingSalesmanProblem(graph, s))\n"
      ],
      "metadata": {
        "colab": {
          "base_uri": "https://localhost:8080/"
        },
        "id": "49fC1uPvEtgn",
        "outputId": "932eef4c-cf69-47dc-be92-2dc86639239b"
      },
      "execution_count": null,
      "outputs": [
        {
          "output_type": "stream",
          "name": "stdout",
          "text": [
            "80\n"
          ]
        }
      ]
    },
    {
      "cell_type": "code",
      "source": [
        "'''week3b'''\n",
        "colors = ['red', 'blue', 'green']\n",
        "states = ['a', 'b', 'c', 'd']\n",
        "\n",
        "# Neighbours of each state\n",
        "neighbors = {\n",
        "    'a': ['b', 'c','d'],\n",
        "    'b': ['a', 'd'],\n",
        "    'c': ['a', 'd'],\n",
        "    'd': ['a','b','c']\n",
        "}\n",
        "\n",
        "# Dictionary to store colors of states\n",
        "colors_of_states = {}\n",
        "\n",
        "# Function to check if a color is valid for a state\n",
        "def promising(state, color):\n",
        "    for neighbor in neighbors.get(state, []):  # Get neighbours of the state\n",
        "        color_of_neighbor = colors_of_states.get(neighbor)  # Get neighbour's color\n",
        "        if color_of_neighbor == color:  # Check if neighbour has the same color\n",
        "            return False\n",
        "    return True\n",
        "\n",
        "# Function to get a valid color for a state\n",
        "def get_color_for_state(state):\n",
        "    for color in colors:  # Iterate over available colors\n",
        "        if promising(state, color):  # Check if the color is valid\n",
        "            return color\n",
        "    return None  # No color found (shouldn't happen in this scenario)\n",
        "\n",
        "# Main function\n",
        "def main():\n",
        "    for state in states:\n",
        "        colors_of_states[state] = get_color_for_state(state)  # Assign color to state\n",
        "    print(colors_of_states)  # Print the coloring result\n",
        "\n",
        "# Run the main function\n",
        "main()\n"
      ],
      "metadata": {
        "colab": {
          "base_uri": "https://localhost:8080/"
        },
        "id": "eTxJ0tIoHFsW",
        "outputId": "f574e750-7ed4-4bf6-8099-b12daeb01a23"
      },
      "execution_count": null,
      "outputs": [
        {
          "output_type": "stream",
          "name": "stdout",
          "text": [
            "{'a': 'red', 'b': 'blue', 'c': 'blue', 'd': 'green'}\n"
          ]
        }
      ]
    },
    {
      "cell_type": "code",
      "source": [
        "'''week8'''\n",
        "import pandas as pd\n",
        "from collections import Counter\n",
        "import math\n",
        "from pprint import pprint\n",
        "\n",
        "# Entropy calculation\n",
        "def entropy(probs):\n",
        "    return sum(-prob * math.log(prob, 2) for prob in probs if prob > 0)\n",
        "\n",
        "def entropy_of_list(a_list):\n",
        "    cnt = Counter(a_list)  # Count frequency of elements\n",
        "    num_instances = len(a_list)\n",
        "    probs = [x / num_instances for x in cnt.values()]\n",
        "    return entropy(probs)\n",
        "\n",
        "# Information Gain calculation\n",
        "def information_gain(df, split_attribute_name, target_attribute_name):\n",
        "    df_split = df.groupby(split_attribute_name)  # Split data by attribute\n",
        "    nobs = len(df.index)\n",
        "\n",
        "    # Calculate weighted entropy\n",
        "    df_agg_ent = df_split[target_attribute_name].agg(\n",
        "        [entropy_of_list, lambda x: len(x) / nobs]\n",
        "    )\n",
        "    df_agg_ent.columns = ['entropy_of_list', 'proportion']\n",
        "    avg_info = sum(df_agg_ent['entropy_of_list'] * df_agg_ent['proportion'])\n",
        "\n",
        "    # Calculate total entropy\n",
        "    old_entropy = entropy_of_list(df[target_attribute_name])\n",
        "    return old_entropy - avg_info\n",
        "\n",
        "# ID3 Algorithm for Decision Tree\n",
        "def id3DT(df, target_attribute_name, attribute_names, default_class=None):\n",
        "    cnt = Counter(df[target_attribute_name])  # Count target values\n",
        "    if len(cnt) == 1:  # Only one class, return it\n",
        "        return next(iter(cnt))\n",
        "    elif df.empty or not attribute_names:  # No data or attributes left\n",
        "        return default_class\n",
        "    else:\n",
        "        default_class = max(cnt, key=cnt.get)  # Majority class\n",
        "        gainz = [\n",
        "            information_gain(df, attr, target_attribute_name)\n",
        "            for attr in attribute_names\n",
        "        ]\n",
        "        index_of_max = gainz.index(max(gainz))  # Attribute with max gain\n",
        "        best_attr = attribute_names[index_of_max]\n",
        "        tree = {best_attr: {}}\n",
        "\n",
        "        remaining_attributes = [\n",
        "            i for i in attribute_names if i != best_attr\n",
        "        ]\n",
        "\n",
        "        for attr_val, data_subset in df.groupby(best_attr):\n",
        "            subtree = id3DT(\n",
        "                data_subset, target_attribute_name, remaining_attributes, default_class\n",
        "            )\n",
        "            tree[best_attr][attr_val] = subtree\n",
        "\n",
        "        return tree\n",
        "\n",
        "# Classification using the decision tree\n",
        "def classify(instance, tree, default=None):\n",
        "    attribute = next(iter(tree))  # Root attribute\n",
        "    if instance[attribute] in tree[attribute]:\n",
        "        result = tree[attribute][instance[attribute]]\n",
        "        if isinstance(result, dict):  # Continue recursively if subtree\n",
        "            return classify(instance, result)\n",
        "        else:\n",
        "            return result\n",
        "    else:\n",
        "        return default\n",
        "\n",
        "# Example Dataset\n",
        "data = {\n",
        "    'Outlook': ['sunny', 'sunny', 'overcast', 'rain', 'rain', 'rain', 'overcast', 'sunny', 'sunny', 'rain', 'sunny', 'overcast', 'overcast', 'rain'],\n",
        "    'Temperature': ['hot', 'hot', 'hot', 'mild', 'cool', 'cool', 'cool', 'mild', 'cool', 'mild', 'mild', 'mild', 'hot', 'mild'],\n",
        "    'Humidity': ['high', 'high', 'high', 'high', 'normal', 'normal', 'normal', 'high', 'normal', 'normal', 'normal', 'high', 'normal', 'high'],\n",
        "    'Wind': ['weak', 'strong', 'weak', 'weak', 'weak', 'strong', 'strong', 'weak', 'weak', 'weak', 'strong', 'strong', 'weak', 'strong'],\n",
        "    'PlayTennis': ['no', 'no', 'yes', 'yes', 'yes', 'no', 'yes', 'no', 'yes', 'yes', 'yes', 'yes', 'yes', 'no']\n",
        "}\n",
        "df = pd.DataFrame(data)\n",
        "\n",
        "# Attribute names\n",
        "attribute_names = list(df.columns)\n",
        "attribute_names.remove('PlayTennis')\n",
        "\n",
        "# Build the decision tree\n",
        "tree = id3DT(df, 'PlayTennis', attribute_names)\n",
        "\n",
        "print(\"The resultant decision tree is:\")\n",
        "pprint(tree)\n",
        "\n",
        "# Classify new instances\n",
        "new_data = {\n",
        "    'Outlook': ['rain', 'sunny'],\n",
        "    'Temperature': ['mild', 'hot'],\n",
        "    'Humidity': ['normal', 'high'],\n",
        "    'Wind': ['weak', 'strong']\n",
        "}\n",
        "df2 = pd.DataFrame(new_data)\n",
        "df2['Predicted'] = df2.apply(classify, axis=1, args=(tree, 'No'))\n",
        "print(\"\\nNew data with predictions:\")\n",
        "print(df2)\n",
        "\n"
      ],
      "metadata": {
        "id": "haJ0CgQkJz-U",
        "colab": {
          "base_uri": "https://localhost:8080/"
        },
        "outputId": "450faa2f-59af-4604-e8f1-ee2f543b7e6f"
      },
      "execution_count": null,
      "outputs": [
        {
          "output_type": "stream",
          "name": "stdout",
          "text": [
            "The resultant decision tree is:\n",
            "{'Outlook': {'overcast': 'yes',\n",
            "             'rain': {'Wind': {'strong': 'no', 'weak': 'yes'}},\n",
            "             'sunny': {'Humidity': {'high': 'no', 'normal': 'yes'}}}}\n",
            "\n",
            "New data with predictions:\n",
            "  Outlook Temperature Humidity    Wind Predicted\n",
            "0    rain        mild   normal    weak       yes\n",
            "1   sunny         hot     high  strong        no\n"
          ]
        }
      ]
    },
    {
      "cell_type": "code",
      "source": [
        "'''week6'''import numpy as np\n",
        "\n",
        "class HMM:\n",
        "    def __init__(self, states, obs):\n",
        "        self.states = states\n",
        "        self.n_states = len(states)\n",
        "        self.n_obs = len(obs)\n",
        "        self.state_index = {state: i for i, state in enumerate(states)}\n",
        "        self.obs_index = {ob: i for i, ob in enumerate(obs)}\n",
        "\n",
        "        # Transition probability matrix (A)\n",
        "        self.A = np.array([\n",
        "            [0.6, 0.3, 0.1],\n",
        "            [0.2, 0.6, 0.3],\n",
        "            [0.1, 0.4, 0.5]\n",
        "        ])\n",
        "\n",
        "        # Emission probability matrix (B)\n",
        "        self.B = np.array([\n",
        "            [0.8, 0.15, 0.05],\n",
        "            [0.3, 0.4, 0.3],\n",
        "            [0.1, 0.2, 0.7]\n",
        "        ])\n",
        "\n",
        "        # Initial probabilities (π)\n",
        "        self.pi = np.array([0.5, 0.3, 0.2])\n",
        "\n",
        "    def forward(self, obs_seq_indices):\n",
        "        \"\"\"\n",
        "        Perform the forward algorithm to calculate the probability of an observation sequence.\n",
        "\n",
        "        Parameters:\n",
        "        obs_seq_indices (list[int]): A list of indices representing the observation sequence.\n",
        "\n",
        "        Returns:\n",
        "        float: The probability of the observation sequence.\n",
        "        \"\"\"\n",
        "        n = len(obs_seq_indices)\n",
        "        alpha = np.zeros((n, self.n_states))  # Initialize alpha matrix\n",
        "\n",
        "        # Initialize alpha for the first observation\n",
        "        alpha[0] = self.pi * self.B[:, obs_seq_indices[0]]\n",
        "\n",
        "        # Recursion step: compute alpha for subsequent observations\n",
        "        for t in range(1, n):\n",
        "            for j in range(self.n_states):\n",
        "                alpha[t, j] = np.sum(alpha[t - 1] * self.A[:, j]) * self.B[j, obs_seq_indices[t]]\n",
        "\n",
        "        # Return the total probability of the observation sequence\n",
        "        return np.sum(alpha[-1])\n",
        "\n",
        "# States and observations\n",
        "states = ['sunny', 'rainy', 'cloudy']\n",
        "obs = ['umbrella', 'normal', 'raincoat']\n",
        "\n",
        "# Create the HMM\n",
        "hmm = HMM(states, obs)\n",
        "\n",
        "# Observation sequence\n",
        "obs_seq = ['umbrella', 'normal', 'umbrella', 'raincoat']\n",
        "\n",
        "# Convert observation sequence to indices\n",
        "obs_seq_indices = [hmm.obs_index[o] for o in obs_seq]\n",
        "\n",
        "# Calculate the probability of the observation sequence\n",
        "prob = hmm.forward(obs_seq_indices)\n",
        "\n",
        "# Print the result\n",
        "print(f\"The probability of observing the sequence {obs_seq} is {prob:.4f}\")\n"
      ],
      "metadata": {
        "colab": {
          "base_uri": "https://localhost:8080/"
        },
        "id": "zimpz113NkYO",
        "outputId": "a1610396-6f8d-4262-be21-2d76a7a1f6b4"
      },
      "execution_count": null,
      "outputs": [
        {
          "output_type": "stream",
          "name": "stdout",
          "text": [
            "The probability of observing the sequence ['umbrella', 'normal', 'umbrella', 'raincoat'] is 0.0150\n"
          ]
        }
      ]
    },
    {
      "cell_type": "code",
      "source": [
        "'''week4'''\n",
        "from sympy import symbols, Or, Not, Implies, satisfiable\n",
        "Rain = symbols('Rain')\n",
        "Harry_Visited_Hagrid = symbols('Harry_Visited_Hagrid')\n",
        "Harry_Visited_Dumbledore = symbols('Harry_Visited_Dumbledore')\n",
        "sentence_1 = Implies((Rain), Harry_Visited_Hagrid)\n",
        "sentence_2 = (Or(Harry_Visited_Hagrid, Harry_Visited_Dumbledore)\n",
        "& Not(Harry_Visited_Hagrid & Harry_Visited_Dumbledore))\n",
        "sentence_3 = Harry_Visited_Dumbledore\n",
        "knowledge_base = sentence_1 & sentence_2 & sentence_3\n",
        "solution = satisfiable(knowledge_base, all_models=True)\n",
        "for model in solution:\n",
        " if model[Rain]:\n",
        "  print(\"It rained today.\")\n",
        " else:\n",
        "  print(\"There is no rain today.\")"
      ],
      "metadata": {
        "id": "KJtBJN8dk454",
        "colab": {
          "base_uri": "https://localhost:8080/"
        },
        "outputId": "998db461-2a72-4a0b-f89f-23a3015d7987"
      },
      "execution_count": 2,
      "outputs": [
        {
          "output_type": "stream",
          "name": "stdout",
          "text": [
            "There is no rain today.\n"
          ]
        }
      ]
    }
  ]
}